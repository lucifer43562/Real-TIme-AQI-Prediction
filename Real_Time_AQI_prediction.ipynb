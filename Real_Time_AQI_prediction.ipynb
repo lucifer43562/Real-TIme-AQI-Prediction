{
  "nbformat": 4,
  "nbformat_minor": 0,
  "metadata": {
    "colab": {
      "private_outputs": true,
      "provenance": []
    },
    "kernelspec": {
      "name": "python3",
      "display_name": "Python 3"
    },
    "language_info": {
      "name": "python"
    }
  },
  "cells": [
    {
      "cell_type": "code",
      "execution_count": null,
      "metadata": {
        "id": "6yMOe1uVYbj0"
      },
      "outputs": [],
      "source": [
        "import xml.etree.ElementTree as ET\n",
        "import csv\n",
        "\n",
        "xml_file = 'data_aqi_cpcb.xml'\n",
        "csv_file = 'converted_aqi.csv'\n",
        "\n",
        "tree = ET.parse(xml_file)\n",
        "root = tree.getroot()\n",
        "\n",
        "with open(csv_file, 'w', newline='', encoding='utf-8') as file:\n",
        "    writer = csv.writer(file)\n",
        "    writer.writerow([\n",
        "        \"Country\", \"State\", \"City\", \"Station\", \"Latitude\", \"Longitude\", \"Last Update\",\n",
        "        \"Pollutant\", \"Min\", \"Max\", \"Avg\", \"AQI\", \"Predominant Parameter\"\n",
        "    ])\n",
        "\n",
        "    for country in root.findall('Country'):\n",
        "        country_id = country.get('id', '')\n",
        "        for state in country.findall('State'):\n",
        "            state_id = state.get('id', '')\n",
        "            for city in state.findall('City'):\n",
        "                city_id = city.get('id', '')\n",
        "                for station in city.findall('Station'):\n",
        "                    station_id = station.get('id', '')\n",
        "                    lat = station.get('latitude', '')\n",
        "                    lon = station.get('longitude', '')\n",
        "                    last_update = station.get('lastupdate', '')\n",
        "                    aqi_tag = station.find('Air_Quality_Index')\n",
        "                    aqi = aqi_tag.get('Value') if aqi_tag is not None else ''\n",
        "                    param = aqi_tag.get('Predominant_Parameter') if aqi_tag is not None else ''\n",
        "\n",
        "\n",
        "                    for pollutant in station.findall('Pollutant_Index'):\n",
        "                        pol_id = pollutant.get('id', '')\n",
        "                        min_val = pollutant.get('Min', '')\n",
        "                        max_val = pollutant.get('Max', '')\n",
        "                        avg_val = pollutant.get('Avg', '')\n",
        "\n",
        "                        writer.writerow([\n",
        "                            country_id, state_id, city_id, station_id, lat, lon,\n",
        "                            last_update, pol_id, min_val, max_val, avg_val,\n",
        "                            aqi, param\n",
        "                        ])\n",
        "\n",
        "print(\"XML converted to CSV successfully!\")\n"
      ]
    },
    {
      "cell_type": "code",
      "source": [
        "import pandas as pd\n",
        "import matplotlib.pyplot as plt\n",
        "import seaborn as sns\n",
        "from sklearn.model_selection import train_test_split\n",
        "from sklearn.preprocessing import StandardScaler\n",
        "from sklearn.ensemble import RandomForestRegressor\n",
        "from sklearn.neighbors import KNeighborsRegressor\n",
        "import xgboost as xgb\n",
        "from sklearn.linear_model import LogisticRegression\n",
        "import xgboost as xg\n",
        "from sklearn.linear_model import LinearRegression, Ridge, Lasso\n",
        "from sklearn.metrics import mean_squared_error, r2_score\n",
        "\n",
        "from sklearn.linear_model import LinearRegression\n",
        "from sklearn.metrics import mean_squared_error, r2_score\n",
        "import warnings\n",
        "warnings.filterwarnings(\"ignore\")\n",
        "df=pd.read_csv(\"converted_aqi.csv\")\n",
        "print(df.head())\n",
        "print(df.isnull().sum())\n",
        "print(df.info())\n",
        "df.head"
      ],
      "metadata": {
        "id": "hdcIEar4Ykwr"
      },
      "execution_count": null,
      "outputs": []
    },
    {
      "cell_type": "code",
      "source": [
        "df['Min'].fillna(df['Min'].mean(), inplace=True)\n",
        "df['Max'].fillna(df['Max'].mean(), inplace=True)\n",
        "df['Avg'].fillna(df['Avg'].mean(), inplace=True)\n",
        "df['AQI'].fillna(df['AQI'].mean(), inplace=True)\n",
        "df['Predominant Parameter'].fillna('Unknown', inplace=True)\n"
      ],
      "metadata": {
        "id": "0fQipyXIZV87"
      },
      "execution_count": null,
      "outputs": []
    },
    {
      "cell_type": "code",
      "source": [
        "print(df.isnull().sum())"
      ],
      "metadata": {
        "id": "w3pY4BFaYk20"
      },
      "execution_count": null,
      "outputs": []
    },
    {
      "cell_type": "code",
      "source": [
        "print(df.describe())\n",
        "print(df['Country'].value_counts())\n",
        "print(df['State'].value_counts())\n",
        "print(df['City'].value_counts())\n",
        "print(df['Pollutant'].value_counts())\n",
        "df.head()"
      ],
      "metadata": {
        "id": "_TEvHJ1zYk5v"
      },
      "execution_count": null,
      "outputs": []
    },
    {
      "cell_type": "code",
      "source": [
        "plt.figure(figsize=(10, 6))\n",
        "sns.histplot(df['AQI'], bins=30, kde=True,color='grey')\n",
        "plt.title('Distribution of AQI values')\n",
        "plt.xlabel('AQI')\n",
        "plt.ylabel('Frequency')\n",
        "plt.show()"
      ],
      "metadata": {
        "id": "PWdoVugUYk8h"
      },
      "execution_count": null,
      "outputs": []
    },
    {
      "cell_type": "code",
      "source": [
        "plt.figure(figsize=(14, 8))\n",
        "sns.boxplot(x='State', y='AQI', data=df)\n",
        "plt.title('Box Plot of AQI by State')\n",
        "plt.xlabel('State')\n",
        "plt.ylabel('AQI')\n",
        "plt.xticks(rotation=90)\n",
        "plt.show()"
      ],
      "metadata": {
        "id": "RWsa0n5AYk_g"
      },
      "execution_count": null,
      "outputs": []
    },
    {
      "cell_type": "code",
      "source": [
        "plt.figure(figsize=(10, 8))\n",
        "correlation = df[['Min', 'Max', 'Avg', 'AQI']].corr()\n",
        "sns.heatmap(correlation, annot=True, cmap='coolwarm')\n",
        "plt.title('Correlation Between Pollutant Levels')\n",
        "plt.show()"
      ],
      "metadata": {
        "id": "lMscE-m1YlCm"
      },
      "execution_count": null,
      "outputs": []
    },
    {
      "cell_type": "code",
      "source": [
        "\n",
        "\n",
        "plt.figure(figsize=(14, 7))\n",
        "state_aqi = df.groupby('State')['AQI'].mean().sort_values(ascending=False).reset_index()\n",
        "\n",
        "sns.barplot(x='State', y='AQI', data=state_aqi, palette='Set2')\n",
        "plt.xticks(rotation=90)\n",
        "plt.xlabel('State')\n",
        "plt.ylabel('Average AQI')\n",
        "plt.title('Average AQI by State')\n",
        "plt.tight_layout()\n",
        "plt.show()\n"
      ],
      "metadata": {
        "id": "jbais6A2YlFM"
      },
      "execution_count": null,
      "outputs": []
    },
    {
      "cell_type": "code",
      "source": [
        "plt.figure(figsize=(50,20))\n",
        "city_aqi = df.groupby('City')['AQI'].mean().sort_values(ascending=False)\n",
        "city_aqi.plot(kind='bar',color='green')\n",
        "plt.title('Average AQI by City')\n",
        "plt.xlabel('City')\n",
        "plt.ylabel('Average AQI')\n",
        "plt.show()\n"
      ],
      "metadata": {
        "id": "dRt-PGciYlId"
      },
      "execution_count": null,
      "outputs": []
    },
    {
      "cell_type": "code",
      "source": [
        "\n",
        "predominant_pollutants = df.groupby(['State', 'Predominant Parameter']).size().unstack().fillna(0)\n",
        "predominant_pollutants.plot(kind='bar', stacked=True, figsize=(14, 7))\n",
        "plt.title('Predominant Pollutants in Different States')\n",
        "plt.xlabel('State')\n",
        "plt.ylabel('Count')\n",
        "plt.legend(title='Pollutant')\n",
        "plt.show()"
      ],
      "metadata": {
        "id": "ldLOwMCArjxq"
      },
      "execution_count": null,
      "outputs": []
    },
    {
      "cell_type": "code",
      "source": [
        "categorical_columns = df.select_dtypes(include=['object']).columns\n",
        "df_encoded = pd.get_dummies(df, columns=categorical_columns, drop_first=True)\n",
        "numeric_columns = df_encoded.select_dtypes(include=['float64', 'int64']).columns\n",
        "X = df_encoded.drop(columns=['AQI'])\n",
        "y = df_encoded['AQI']\n",
        "X_train, X_test, y_train, y_test = train_test_split(X, y, test_size=0.2, random_state=42)\n",
        "scaler = StandardScaler()\n",
        "X_train = scaler.fit_transform(X_train)\n",
        "X_test = scaler.transform(X_test)\n",
        "\n",
        "\n"
      ],
      "metadata": {
        "id": "U4A9w37BYlLV"
      },
      "execution_count": null,
      "outputs": []
    },
    {
      "cell_type": "code",
      "source": [
        "model = RandomForestRegressor(n_estimators=100, random_state=42)\n",
        "model.fit(X_train, y_train)\n",
        "\n",
        "y_pred = model.predict(X_test)\n",
        "\n",
        "mse = mean_squared_error(y_test, y_pred)\n",
        "r2 = r2_score(y_test, y_pred)\n",
        "print(f'Mean Squared Error: {mse}')\n",
        "print(f'R^2 Score: {r2}')\n"
      ],
      "metadata": {
        "id": "JOZdpaL9YlO6"
      },
      "execution_count": null,
      "outputs": []
    },
    {
      "cell_type": "code",
      "source": [
        "model = KNeighborsRegressor(n_neighbors=5)\n",
        "model.fit(X_train, y_train)\n",
        "y_pred = model.predict(X_test)\n",
        "mse = mean_squared_error(y_test, y_pred)\n",
        "r2 = r2_score(y_test, y_pred)\n",
        "print(f'Mean Squared Error: {mse}')\n",
        "print(f'R^2 Score: {r2}')"
      ],
      "metadata": {
        "id": "U12JzgtRO5ch"
      },
      "execution_count": null,
      "outputs": []
    },
    {
      "cell_type": "code",
      "source": [
        "model = xgb.XGBRegressor(\n",
        "    n_estimators=100,\n",
        "    learning_rate=0.1,\n",
        "    max_depth=5,\n",
        "    random_state=42,\n",
        "    objective='reg:squarederror')\n",
        "model.fit(X_train, y_train)\n",
        "y_pred = model.predict(X_test)\n",
        "mse = mean_squared_error(y_test, y_pred)\n",
        "r2 = r2_score(y_test, y_pred)\n",
        "print(f\"Mean Squared Error (MSE): {mse:.4f}\")\n",
        "print(f\"R² Score: {r2:.4f}\")"
      ],
      "metadata": {
        "id": "BE5DUoutfvfe"
      },
      "execution_count": null,
      "outputs": []
    },
    {
      "cell_type": "code",
      "source": [
        "scaler = StandardScaler()\n",
        "X_train_scaled = scaler.fit_transform(X_train)\n",
        "X_test_scaled = scaler.transform(X_test)\n",
        "model = LinearRegression()\n",
        "model.fit(X_train_scaled, y_train)\n",
        "y_pred = model.predict(X_test_scaled)\n",
        "print('R² Score:', r2_score(y_test, y_pred))\n",
        "print('MSE:', mean_squared_error(y_test, y_pred))"
      ],
      "metadata": {
        "id": "nBkwx7CCW_uT"
      },
      "execution_count": null,
      "outputs": []
    },
    {
      "cell_type": "code",
      "source": [
        "predicted = model.predict(X_test)\n",
        "residuals = y_test - predicted\n",
        "plt.scatter(y_test, predicted, color='green')\n",
        "plt.plot([y_test.min(), y_test.max()], [y_test.min(), y_test.max()], color='black')\n",
        "plt.xlabel(\"Actual AQI\")\n",
        "plt.ylabel(\"Predicted AQI\")\n",
        "plt.title(\"Predicted vs Actual Values\")\n",
        "plt.show()\n"
      ],
      "metadata": {
        "id": "ofa_MADYZDoT"
      },
      "execution_count": null,
      "outputs": []
    },
    {
      "cell_type": "code",
      "source": [
        "import requests\n",
        "def fetch_realtime_aqi(city, token):\n",
        "    url = f\"https://api.waqi.info/feed/{city}/?token={token}\"\n",
        "    try:\n",
        "        response = requests.get(url)\n",
        "        data = response.json()\n",
        "\n",
        "        if data[\"status\"] == \"ok\":\n",
        "            aqi = data[\"data\"][\"aqi\"]\n",
        "            dominentpol = data[\"data\"].get(\"dominentpol\", \"unknown\")\n",
        "            print(f\"\\n✅ Real-time AQI for {city.title()}: {aqi}\")\n",
        "            print(f\"Main pollutant: {dominentpol}\")\n",
        "            return aqi\n",
        "        else:\n",
        "            print(\"❌ Failed to get AQI data. Reason:\", data.get(\"data\", \"Unknown error\"))\n",
        "            return None\n",
        "    except Exception as e:\n",
        "        print(\"❌ Error occurred while fetching AQI:\", e)\n",
        "        return None\n",
        "token = \"3c1ddc7886e2faf610c0737f375e8b4be88c1e14\" # replace it with your api token\n",
        "city = input(\"Enter city name: \").strip()\n",
        "fetch_realtime_aqi(city, token)\n"
      ],
      "metadata": {
        "id": "hmCmsCG-GlZ3"
      },
      "execution_count": null,
      "outputs": []
    }
  ]
}